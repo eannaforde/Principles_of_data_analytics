{
 "cells": [
  {
   "cell_type": "code",
   "execution_count": 6,
   "id": "048ee899",
   "metadata": {},
   "outputs": [],
   "source": [
    "import pandas as pd"
   ]
  },
  {
   "cell_type": "markdown",
   "id": "9cf3794d",
   "metadata": {},
   "source": [
    "#Problem 1: Load and explore the wine dataset"
   ]
  },
  {
   "cell_type": "code",
   "execution_count": 13,
   "id": "47aea439",
   "metadata": {},
   "outputs": [
    {
     "data": {
      "text/plain": [
       "(178, 14)"
      ]
     },
     "execution_count": 13,
     "metadata": {},
     "output_type": "execute_result"
    }
   ],
   "source": [
    "#import the wine dataset using sklearn.datasets.load_wine()\n",
    "from sklearn.datasets import load_wine\n",
    "#Load the wine dataset using sklearn\n",
    "data = load_wine()\n",
    "#Create a pandas dataframe using the data and feature names\n",
    "df = pd.DataFrame(data.data, columns=data.feature_names) \n",
    "#Add the target (wine type) to the dataframe\n",
    "df['target'] = data.target\n",
    "#Check the number of rows and columns\n",
    "df.shape #(178, 14) means 178 samples and 14 fetures including target"
   ]
  },
  {
   "cell_type": "markdown",
   "id": "1f445d68",
   "metadata": {},
   "source": [
    "##Task 2:"
   ]
  }
 ],
 "metadata": {
  "kernelspec": {
   "display_name": "Python 3",
   "language": "python",
   "name": "python3"
  },
  "language_info": {
   "codemirror_mode": {
    "name": "ipython",
    "version": 3
   },
   "file_extension": ".py",
   "mimetype": "text/x-python",
   "name": "python",
   "nbconvert_exporter": "python",
   "pygments_lexer": "ipython3",
   "version": "3.12.1"
  }
 },
 "nbformat": 4,
 "nbformat_minor": 5
}
